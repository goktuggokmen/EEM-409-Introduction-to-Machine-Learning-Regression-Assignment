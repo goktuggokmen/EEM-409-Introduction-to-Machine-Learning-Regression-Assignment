{
  "nbformat": 4,
  "nbformat_minor": 0,
  "metadata": {
    "colab": {
      "name": "Regression.ipynb",
      "provenance": [],
      "collapsed_sections": [],
      "authorship_tag": "ABX9TyOLtmYnbR5UlHF5q8KrxGmH",
      "include_colab_link": true
    },
    "kernelspec": {
      "name": "python3",
      "display_name": "Python 3"
    },
    "language_info": {
      "name": "python"
    }
  },
  "cells": [
    {
      "cell_type": "markdown",
      "metadata": {
        "id": "view-in-github",
        "colab_type": "text"
      },
      "source": [
        "<a href=\"https://colab.research.google.com/github/goktuggokmen/EEM-409-Introduction-to-Machine-Learning-Regression-Assignment/blob/main/Regression.ipynb\" target=\"_parent\"><img src=\"https://colab.research.google.com/assets/colab-badge.svg\" alt=\"Open In Colab\"/></a>"
      ]
    },
    {
      "cell_type": "code",
      "metadata": {
        "id": "U5Vry25kO5dB"
      },
      "source": [
        "import pandas as pd\n",
        "import numpy as np\n",
        "import matplotlib.pyplot as plt\n",
        "import seaborn as sns\n",
        "import sklearn \n",
        "from sklearn.model_selection import train_test_split\n",
        "from sklearn.linear_model import LinearRegression\n",
        "from sklearn.metrics import mean_squared_error\n",
        "from sklearn.preprocessing import PolynomialFeatures"
      ],
      "execution_count": null,
      "outputs": []
    },
    {
      "cell_type": "markdown",
      "metadata": {
        "id": "5pnC52VHOjHI"
      },
      "source": [
        "# **1. Ev fiyatları verisini (home_data.csv) yükleyin ve inceleyin.**"
      ]
    },
    {
      "cell_type": "code",
      "metadata": {
        "id": "fUQW2GYZOlxQ"
      },
      "source": [
        "data = pd.read_csv(\"home_data.csv\")"
      ],
      "execution_count": null,
      "outputs": []
    },
    {
      "cell_type": "code",
      "metadata": {
        "colab": {
          "base_uri": "https://localhost:8080/"
        },
        "id": "AE0b-zEcRMDT",
        "outputId": "c2541d99-ad2d-4447-905e-361fca2c3ac3"
      },
      "source": [
        "data.info()"
      ],
      "execution_count": null,
      "outputs": [
        {
          "output_type": "stream",
          "name": "stdout",
          "text": [
            "<class 'pandas.core.frame.DataFrame'>\n",
            "RangeIndex: 21613 entries, 0 to 21612\n",
            "Data columns (total 21 columns):\n",
            " #   Column         Non-Null Count  Dtype  \n",
            "---  ------         --------------  -----  \n",
            " 0   id             21613 non-null  int64  \n",
            " 1   date           21613 non-null  object \n",
            " 2   price          21613 non-null  int64  \n",
            " 3   bedrooms       21613 non-null  int64  \n",
            " 4   bathrooms      21613 non-null  float64\n",
            " 5   sqft_living    21613 non-null  int64  \n",
            " 6   sqft_lot       21613 non-null  int64  \n",
            " 7   floors         21613 non-null  float64\n",
            " 8   waterfront     21613 non-null  int64  \n",
            " 9   view           21613 non-null  int64  \n",
            " 10  condition      21613 non-null  int64  \n",
            " 11  grade          21613 non-null  int64  \n",
            " 12  sqft_above     21613 non-null  int64  \n",
            " 13  sqft_basement  21613 non-null  int64  \n",
            " 14  yr_built       21613 non-null  int64  \n",
            " 15  yr_renovated   21613 non-null  int64  \n",
            " 16  zipcode        21613 non-null  int64  \n",
            " 17  lat            21613 non-null  float64\n",
            " 18  long           21613 non-null  float64\n",
            " 19  sqft_living15  21613 non-null  int64  \n",
            " 20  sqft_lot15     21613 non-null  int64  \n",
            "dtypes: float64(4), int64(16), object(1)\n",
            "memory usage: 3.5+ MB\n"
          ]
        }
      ]
    },
    {
      "cell_type": "code",
      "metadata": {
        "colab": {
          "base_uri": "https://localhost:8080/",
          "height": 223
        },
        "id": "ecIlU9O1PIFn",
        "outputId": "7abcb685-eb90-4848-b720-0e7bd6482b0e"
      },
      "source": [
        "data.head()"
      ],
      "execution_count": null,
      "outputs": [
        {
          "output_type": "execute_result",
          "data": {
            "text/html": [
              "<div>\n",
              "<style scoped>\n",
              "    .dataframe tbody tr th:only-of-type {\n",
              "        vertical-align: middle;\n",
              "    }\n",
              "\n",
              "    .dataframe tbody tr th {\n",
              "        vertical-align: top;\n",
              "    }\n",
              "\n",
              "    .dataframe thead th {\n",
              "        text-align: right;\n",
              "    }\n",
              "</style>\n",
              "<table border=\"1\" class=\"dataframe\">\n",
              "  <thead>\n",
              "    <tr style=\"text-align: right;\">\n",
              "      <th></th>\n",
              "      <th>id</th>\n",
              "      <th>date</th>\n",
              "      <th>price</th>\n",
              "      <th>bedrooms</th>\n",
              "      <th>bathrooms</th>\n",
              "      <th>sqft_living</th>\n",
              "      <th>sqft_lot</th>\n",
              "      <th>floors</th>\n",
              "      <th>waterfront</th>\n",
              "      <th>view</th>\n",
              "      <th>condition</th>\n",
              "      <th>grade</th>\n",
              "      <th>sqft_above</th>\n",
              "      <th>sqft_basement</th>\n",
              "      <th>yr_built</th>\n",
              "      <th>yr_renovated</th>\n",
              "      <th>zipcode</th>\n",
              "      <th>lat</th>\n",
              "      <th>long</th>\n",
              "      <th>sqft_living15</th>\n",
              "      <th>sqft_lot15</th>\n",
              "    </tr>\n",
              "  </thead>\n",
              "  <tbody>\n",
              "    <tr>\n",
              "      <th>0</th>\n",
              "      <td>7129300520</td>\n",
              "      <td>20141013T000000</td>\n",
              "      <td>221900</td>\n",
              "      <td>3</td>\n",
              "      <td>1.00</td>\n",
              "      <td>1180</td>\n",
              "      <td>5650</td>\n",
              "      <td>1.0</td>\n",
              "      <td>0</td>\n",
              "      <td>0</td>\n",
              "      <td>3</td>\n",
              "      <td>7</td>\n",
              "      <td>1180</td>\n",
              "      <td>0</td>\n",
              "      <td>1955</td>\n",
              "      <td>0</td>\n",
              "      <td>98178</td>\n",
              "      <td>47.5112</td>\n",
              "      <td>-122.257</td>\n",
              "      <td>1340</td>\n",
              "      <td>5650</td>\n",
              "    </tr>\n",
              "    <tr>\n",
              "      <th>1</th>\n",
              "      <td>6414100192</td>\n",
              "      <td>20141209T000000</td>\n",
              "      <td>538000</td>\n",
              "      <td>3</td>\n",
              "      <td>2.25</td>\n",
              "      <td>2570</td>\n",
              "      <td>7242</td>\n",
              "      <td>2.0</td>\n",
              "      <td>0</td>\n",
              "      <td>0</td>\n",
              "      <td>3</td>\n",
              "      <td>7</td>\n",
              "      <td>2170</td>\n",
              "      <td>400</td>\n",
              "      <td>1951</td>\n",
              "      <td>1991</td>\n",
              "      <td>98125</td>\n",
              "      <td>47.7210</td>\n",
              "      <td>-122.319</td>\n",
              "      <td>1690</td>\n",
              "      <td>7639</td>\n",
              "    </tr>\n",
              "    <tr>\n",
              "      <th>2</th>\n",
              "      <td>5631500400</td>\n",
              "      <td>20150225T000000</td>\n",
              "      <td>180000</td>\n",
              "      <td>2</td>\n",
              "      <td>1.00</td>\n",
              "      <td>770</td>\n",
              "      <td>10000</td>\n",
              "      <td>1.0</td>\n",
              "      <td>0</td>\n",
              "      <td>0</td>\n",
              "      <td>3</td>\n",
              "      <td>6</td>\n",
              "      <td>770</td>\n",
              "      <td>0</td>\n",
              "      <td>1933</td>\n",
              "      <td>0</td>\n",
              "      <td>98028</td>\n",
              "      <td>47.7379</td>\n",
              "      <td>-122.233</td>\n",
              "      <td>2720</td>\n",
              "      <td>8062</td>\n",
              "    </tr>\n",
              "    <tr>\n",
              "      <th>3</th>\n",
              "      <td>2487200875</td>\n",
              "      <td>20141209T000000</td>\n",
              "      <td>604000</td>\n",
              "      <td>4</td>\n",
              "      <td>3.00</td>\n",
              "      <td>1960</td>\n",
              "      <td>5000</td>\n",
              "      <td>1.0</td>\n",
              "      <td>0</td>\n",
              "      <td>0</td>\n",
              "      <td>5</td>\n",
              "      <td>7</td>\n",
              "      <td>1050</td>\n",
              "      <td>910</td>\n",
              "      <td>1965</td>\n",
              "      <td>0</td>\n",
              "      <td>98136</td>\n",
              "      <td>47.5208</td>\n",
              "      <td>-122.393</td>\n",
              "      <td>1360</td>\n",
              "      <td>5000</td>\n",
              "    </tr>\n",
              "    <tr>\n",
              "      <th>4</th>\n",
              "      <td>1954400510</td>\n",
              "      <td>20150218T000000</td>\n",
              "      <td>510000</td>\n",
              "      <td>3</td>\n",
              "      <td>2.00</td>\n",
              "      <td>1680</td>\n",
              "      <td>8080</td>\n",
              "      <td>1.0</td>\n",
              "      <td>0</td>\n",
              "      <td>0</td>\n",
              "      <td>3</td>\n",
              "      <td>8</td>\n",
              "      <td>1680</td>\n",
              "      <td>0</td>\n",
              "      <td>1987</td>\n",
              "      <td>0</td>\n",
              "      <td>98074</td>\n",
              "      <td>47.6168</td>\n",
              "      <td>-122.045</td>\n",
              "      <td>1800</td>\n",
              "      <td>7503</td>\n",
              "    </tr>\n",
              "  </tbody>\n",
              "</table>\n",
              "</div>"
            ],
            "text/plain": [
              "           id             date   price  ...     long  sqft_living15  sqft_lot15\n",
              "0  7129300520  20141013T000000  221900  ... -122.257           1340        5650\n",
              "1  6414100192  20141209T000000  538000  ... -122.319           1690        7639\n",
              "2  5631500400  20150225T000000  180000  ... -122.233           2720        8062\n",
              "3  2487200875  20141209T000000  604000  ... -122.393           1360        5000\n",
              "4  1954400510  20150218T000000  510000  ... -122.045           1800        7503\n",
              "\n",
              "[5 rows x 21 columns]"
            ]
          },
          "metadata": {},
          "execution_count": 17
        }
      ]
    },
    {
      "cell_type": "code",
      "metadata": {
        "colab": {
          "base_uri": "https://localhost:8080/",
          "height": 223
        },
        "id": "Yjg_WtqLPfZQ",
        "outputId": "c8c10d47-727e-4d75-fbb3-6bb4d7b388bc"
      },
      "source": [
        "data.tail()"
      ],
      "execution_count": null,
      "outputs": [
        {
          "output_type": "execute_result",
          "data": {
            "text/html": [
              "<div>\n",
              "<style scoped>\n",
              "    .dataframe tbody tr th:only-of-type {\n",
              "        vertical-align: middle;\n",
              "    }\n",
              "\n",
              "    .dataframe tbody tr th {\n",
              "        vertical-align: top;\n",
              "    }\n",
              "\n",
              "    .dataframe thead th {\n",
              "        text-align: right;\n",
              "    }\n",
              "</style>\n",
              "<table border=\"1\" class=\"dataframe\">\n",
              "  <thead>\n",
              "    <tr style=\"text-align: right;\">\n",
              "      <th></th>\n",
              "      <th>id</th>\n",
              "      <th>date</th>\n",
              "      <th>price</th>\n",
              "      <th>bedrooms</th>\n",
              "      <th>bathrooms</th>\n",
              "      <th>sqft_living</th>\n",
              "      <th>sqft_lot</th>\n",
              "      <th>floors</th>\n",
              "      <th>waterfront</th>\n",
              "      <th>view</th>\n",
              "      <th>condition</th>\n",
              "      <th>grade</th>\n",
              "      <th>sqft_above</th>\n",
              "      <th>sqft_basement</th>\n",
              "      <th>yr_built</th>\n",
              "      <th>yr_renovated</th>\n",
              "      <th>zipcode</th>\n",
              "      <th>lat</th>\n",
              "      <th>long</th>\n",
              "      <th>sqft_living15</th>\n",
              "      <th>sqft_lot15</th>\n",
              "    </tr>\n",
              "  </thead>\n",
              "  <tbody>\n",
              "    <tr>\n",
              "      <th>21608</th>\n",
              "      <td>263000018</td>\n",
              "      <td>20140521T000000</td>\n",
              "      <td>360000</td>\n",
              "      <td>3</td>\n",
              "      <td>2.50</td>\n",
              "      <td>1530</td>\n",
              "      <td>1131</td>\n",
              "      <td>3.0</td>\n",
              "      <td>0</td>\n",
              "      <td>0</td>\n",
              "      <td>3</td>\n",
              "      <td>8</td>\n",
              "      <td>1530</td>\n",
              "      <td>0</td>\n",
              "      <td>2009</td>\n",
              "      <td>0</td>\n",
              "      <td>98103</td>\n",
              "      <td>47.6993</td>\n",
              "      <td>-122.346</td>\n",
              "      <td>1530</td>\n",
              "      <td>1509</td>\n",
              "    </tr>\n",
              "    <tr>\n",
              "      <th>21609</th>\n",
              "      <td>6600060120</td>\n",
              "      <td>20150223T000000</td>\n",
              "      <td>400000</td>\n",
              "      <td>4</td>\n",
              "      <td>2.50</td>\n",
              "      <td>2310</td>\n",
              "      <td>5813</td>\n",
              "      <td>2.0</td>\n",
              "      <td>0</td>\n",
              "      <td>0</td>\n",
              "      <td>3</td>\n",
              "      <td>8</td>\n",
              "      <td>2310</td>\n",
              "      <td>0</td>\n",
              "      <td>2014</td>\n",
              "      <td>0</td>\n",
              "      <td>98146</td>\n",
              "      <td>47.5107</td>\n",
              "      <td>-122.362</td>\n",
              "      <td>1830</td>\n",
              "      <td>7200</td>\n",
              "    </tr>\n",
              "    <tr>\n",
              "      <th>21610</th>\n",
              "      <td>1523300141</td>\n",
              "      <td>20140623T000000</td>\n",
              "      <td>402101</td>\n",
              "      <td>2</td>\n",
              "      <td>0.75</td>\n",
              "      <td>1020</td>\n",
              "      <td>1350</td>\n",
              "      <td>2.0</td>\n",
              "      <td>0</td>\n",
              "      <td>0</td>\n",
              "      <td>3</td>\n",
              "      <td>7</td>\n",
              "      <td>1020</td>\n",
              "      <td>0</td>\n",
              "      <td>2009</td>\n",
              "      <td>0</td>\n",
              "      <td>98144</td>\n",
              "      <td>47.5944</td>\n",
              "      <td>-122.299</td>\n",
              "      <td>1020</td>\n",
              "      <td>2007</td>\n",
              "    </tr>\n",
              "    <tr>\n",
              "      <th>21611</th>\n",
              "      <td>291310100</td>\n",
              "      <td>20150116T000000</td>\n",
              "      <td>400000</td>\n",
              "      <td>3</td>\n",
              "      <td>2.50</td>\n",
              "      <td>1600</td>\n",
              "      <td>2388</td>\n",
              "      <td>2.0</td>\n",
              "      <td>0</td>\n",
              "      <td>0</td>\n",
              "      <td>3</td>\n",
              "      <td>8</td>\n",
              "      <td>1600</td>\n",
              "      <td>0</td>\n",
              "      <td>2004</td>\n",
              "      <td>0</td>\n",
              "      <td>98027</td>\n",
              "      <td>47.5345</td>\n",
              "      <td>-122.069</td>\n",
              "      <td>1410</td>\n",
              "      <td>1287</td>\n",
              "    </tr>\n",
              "    <tr>\n",
              "      <th>21612</th>\n",
              "      <td>1523300157</td>\n",
              "      <td>20141015T000000</td>\n",
              "      <td>325000</td>\n",
              "      <td>2</td>\n",
              "      <td>0.75</td>\n",
              "      <td>1020</td>\n",
              "      <td>1076</td>\n",
              "      <td>2.0</td>\n",
              "      <td>0</td>\n",
              "      <td>0</td>\n",
              "      <td>3</td>\n",
              "      <td>7</td>\n",
              "      <td>1020</td>\n",
              "      <td>0</td>\n",
              "      <td>2008</td>\n",
              "      <td>0</td>\n",
              "      <td>98144</td>\n",
              "      <td>47.5941</td>\n",
              "      <td>-122.299</td>\n",
              "      <td>1020</td>\n",
              "      <td>1357</td>\n",
              "    </tr>\n",
              "  </tbody>\n",
              "</table>\n",
              "</div>"
            ],
            "text/plain": [
              "               id             date   price  ...     long  sqft_living15  sqft_lot15\n",
              "21608   263000018  20140521T000000  360000  ... -122.346           1530        1509\n",
              "21609  6600060120  20150223T000000  400000  ... -122.362           1830        7200\n",
              "21610  1523300141  20140623T000000  402101  ... -122.299           1020        2007\n",
              "21611   291310100  20150116T000000  400000  ... -122.069           1410        1287\n",
              "21612  1523300157  20141015T000000  325000  ... -122.299           1020        1357\n",
              "\n",
              "[5 rows x 21 columns]"
            ]
          },
          "metadata": {},
          "execution_count": 18
        }
      ]
    },
    {
      "cell_type": "markdown",
      "metadata": {
        "id": "5zq3wRXCPEHh"
      },
      "source": [
        "**a. Posta kodu, ev satış fiyatı gibi özniteliklere göre verinin frekans plot’unu (histogram) çizdirin.**"
      ]
    },
    {
      "cell_type": "code",
      "metadata": {
        "colab": {
          "base_uri": "https://localhost:8080/",
          "height": 963
        },
        "id": "KiXM5JW-PGVP",
        "outputId": "754e08ba-8a36-49db-ea05-d8fc5244a61f"
      },
      "source": [
        "data.hist(bins = 16,color = '#ee104e',xlabelsize = 8,ylabelsize = 8)\n",
        "plt.tight_layout(rect=(0,0,4,4))"
      ],
      "execution_count": null,
      "outputs": [
        {
          "output_type": "display_data",
          "data": {
            "image/png": "[encoded data removed]",
            "text/plain": [
              "<Figure size 432x288 with 20 Axes>"
            ]
          },
          "metadata": {
            "needs_background": "light"
          }
        }
      ]
    },
    {
      "cell_type": "markdown",
      "metadata": {
        "id": "aBpuI-aiRZX5"
      },
      "source": [
        "**b. Verideki en yüksek ve en düşük satış fiyatlı evlerin fiyatları nedir? Ortalama ev satış fiyatı nedir?**"
      ]
    },
    {
      "cell_type": "code",
      "metadata": {
        "colab": {
          "base_uri": "https://localhost:8080/"
        },
        "id": "ntxHCnYAR7Rn",
        "outputId": "0f57879e-39e1-4b3e-eadc-ac3652bb3f4c"
      },
      "source": [
        "print(\"En yüksek fiyatlı evin fiyatı:\",data['price'].max())\n",
        "print(\"En düşük fiyatlı evin fiyatı:\",data['price'].min())\n",
        "print(\"Ortalama ev satış fiyatı::\",data['price'].mean())"
      ],
      "execution_count": null,
      "outputs": [
        {
          "output_type": "stream",
          "name": "stdout",
          "text": [
            "En yüksek fiyatlı evin fiyatı: 7700000\n",
            "En düşük fiyatlı evin fiyatı: 75000\n",
            "Ortalama ev satış fiyatı:: 540088.1419053348\n"
          ]
        }
      ]
    },
    {
      "cell_type": "markdown",
      "metadata": {
        "id": "IxSm9TL-S7Mh"
      },
      "source": [
        "**c. En yüksek ortalama satış fiyatına sahip bölgeyi (posta kodu) hesaplayın. Bu posta koduna sahip evlerin ortalama satış fiyatı nedir?**"
      ]
    },
    {
      "cell_type": "code",
      "metadata": {
        "colab": {
          "base_uri": "https://localhost:8080/"
        },
        "id": "Gp2E1BKBKbkX",
        "outputId": "c7209156-6ca9-4049-9772-1774c75adc6e"
      },
      "source": [
        "zipcode = data['zipcode'].unique()\n",
        "\n",
        "best_address = 0\n",
        "\n",
        "for address in zipcode:\n",
        "  zip_data = data.loc[data['zipcode'] == address]\n",
        "  zip_ort = zip_data['price'].mean()\n",
        "  \n",
        "if zip_ort > best_address:\n",
        "  best_address = address\n",
        "\n",
        "\n",
        "zip_data = data.loc[data['zipcode'] == best_address]\n",
        "best_mean = zip_data['price'].mean()\n",
        "\n",
        "print(\"En Yüksek Ortalama Satış Fiyata Sahip Bölge: \", best_address)\n",
        "print(\"Bu Posta Koduna Sahip Evlerin Ortalama Satış Fiyatı: \", int(best_mean))"
      ],
      "execution_count": null,
      "outputs": [
        {
          "output_type": "stream",
          "name": "stdout",
          "text": [
            "En Yüksek Ortalama Satış Fiyata Sahip Bölge:  98039\n",
            "Bu Posta Koduna Sahip Evlerin Ortalama Satış Fiyatı:  2160606\n"
          ]
        }
      ]
    },
    {
      "cell_type": "markdown",
      "metadata": {
        "id": "JvRreqVaa0a2"
      },
      "source": [
        "# **2. ‘sqft_living’ özniteliğine göre 2000 sqft’ten büyük ve 4000 sqft’ten küçük olan evleri seçin. Tüm evlerin yüzde kaçı bu aralıkta, belirleyin.**"
      ]
    },
    {
      "cell_type": "code",
      "metadata": {
        "colab": {
          "base_uri": "https://localhost:8080/",
          "height": 437
        },
        "id": "l0VK_BFga_d0",
        "outputId": "3c76c1ce-d1f0-4763-f2d2-7e95ff5b8556"
      },
      "source": [
        "filtered_houses = data[(data['sqft_living'] > 2000) & (data['sqft_living'] <= 4000)]\n",
        "filtered_houses"
      ],
      "execution_count": null,
      "outputs": [
        {
          "output_type": "execute_result",
          "data": {
            "text/html": [
              "<div>\n",
              "<style scoped>\n",
              "    .dataframe tbody tr th:only-of-type {\n",
              "        vertical-align: middle;\n",
              "    }\n",
              "\n",
              "    .dataframe tbody tr th {\n",
              "        vertical-align: top;\n",
              "    }\n",
              "\n",
              "    .dataframe thead th {\n",
              "        text-align: right;\n",
              "    }\n",
              "</style>\n",
              "<table border=\"1\" class=\"dataframe\">\n",
              "  <thead>\n",
              "    <tr style=\"text-align: right;\">\n",
              "      <th></th>\n",
              "      <th>id</th>\n",
              "      <th>date</th>\n",
              "      <th>price</th>\n",
              "      <th>bedrooms</th>\n",
              "      <th>bathrooms</th>\n",
              "      <th>sqft_living</th>\n",
              "      <th>sqft_lot</th>\n",
              "      <th>floors</th>\n",
              "      <th>waterfront</th>\n",
              "      <th>view</th>\n",
              "      <th>condition</th>\n",
              "      <th>grade</th>\n",
              "      <th>sqft_above</th>\n",
              "      <th>sqft_basement</th>\n",
              "      <th>yr_built</th>\n",
              "      <th>yr_renovated</th>\n",
              "      <th>zipcode</th>\n",
              "      <th>lat</th>\n",
              "      <th>long</th>\n",
              "      <th>sqft_living15</th>\n",
              "      <th>sqft_lot15</th>\n",
              "    </tr>\n",
              "  </thead>\n",
              "  <tbody>\n",
              "    <tr>\n",
              "      <th>1</th>\n",
              "      <td>6414100192</td>\n",
              "      <td>20141209T000000</td>\n",
              "      <td>538000</td>\n",
              "      <td>3</td>\n",
              "      <td>2.25</td>\n",
              "      <td>2570</td>\n",
              "      <td>7242</td>\n",
              "      <td>2.0</td>\n",
              "      <td>0</td>\n",
              "      <td>0</td>\n",
              "      <td>3</td>\n",
              "      <td>7</td>\n",
              "      <td>2170</td>\n",
              "      <td>400</td>\n",
              "      <td>1951</td>\n",
              "      <td>1991</td>\n",
              "      <td>98125</td>\n",
              "      <td>47.7210</td>\n",
              "      <td>-122.319</td>\n",
              "      <td>1690</td>\n",
              "      <td>7639</td>\n",
              "    </tr>\n",
              "    <tr>\n",
              "      <th>10</th>\n",
              "      <td>1736800520</td>\n",
              "      <td>20150403T000000</td>\n",
              "      <td>662500</td>\n",
              "      <td>3</td>\n",
              "      <td>2.50</td>\n",
              "      <td>3560</td>\n",
              "      <td>9796</td>\n",
              "      <td>1.0</td>\n",
              "      <td>0</td>\n",
              "      <td>0</td>\n",
              "      <td>3</td>\n",
              "      <td>8</td>\n",
              "      <td>1860</td>\n",
              "      <td>1700</td>\n",
              "      <td>1965</td>\n",
              "      <td>0</td>\n",
              "      <td>98007</td>\n",
              "      <td>47.6007</td>\n",
              "      <td>-122.145</td>\n",
              "      <td>2210</td>\n",
              "      <td>8925</td>\n",
              "    </tr>\n",
              "    <tr>\n",
              "      <th>15</th>\n",
              "      <td>9297300055</td>\n",
              "      <td>20150124T000000</td>\n",
              "      <td>650000</td>\n",
              "      <td>4</td>\n",
              "      <td>3.00</td>\n",
              "      <td>2950</td>\n",
              "      <td>5000</td>\n",
              "      <td>2.0</td>\n",
              "      <td>0</td>\n",
              "      <td>3</td>\n",
              "      <td>3</td>\n",
              "      <td>9</td>\n",
              "      <td>1980</td>\n",
              "      <td>970</td>\n",
              "      <td>1979</td>\n",
              "      <td>0</td>\n",
              "      <td>98126</td>\n",
              "      <td>47.5714</td>\n",
              "      <td>-122.375</td>\n",
              "      <td>2140</td>\n",
              "      <td>4000</td>\n",
              "    </tr>\n",
              "    <tr>\n",
              "      <th>21</th>\n",
              "      <td>2524049179</td>\n",
              "      <td>20140826T000000</td>\n",
              "      <td>2000000</td>\n",
              "      <td>3</td>\n",
              "      <td>2.75</td>\n",
              "      <td>3050</td>\n",
              "      <td>44867</td>\n",
              "      <td>1.0</td>\n",
              "      <td>0</td>\n",
              "      <td>4</td>\n",
              "      <td>3</td>\n",
              "      <td>9</td>\n",
              "      <td>2330</td>\n",
              "      <td>720</td>\n",
              "      <td>1968</td>\n",
              "      <td>0</td>\n",
              "      <td>98040</td>\n",
              "      <td>47.5316</td>\n",
              "      <td>-122.233</td>\n",
              "      <td>4110</td>\n",
              "      <td>20336</td>\n",
              "    </tr>\n",
              "    <tr>\n",
              "      <th>22</th>\n",
              "      <td>7137970340</td>\n",
              "      <td>20140703T000000</td>\n",
              "      <td>285000</td>\n",
              "      <td>5</td>\n",
              "      <td>2.50</td>\n",
              "      <td>2270</td>\n",
              "      <td>6300</td>\n",
              "      <td>2.0</td>\n",
              "      <td>0</td>\n",
              "      <td>0</td>\n",
              "      <td>3</td>\n",
              "      <td>8</td>\n",
              "      <td>2270</td>\n",
              "      <td>0</td>\n",
              "      <td>1995</td>\n",
              "      <td>0</td>\n",
              "      <td>98092</td>\n",
              "      <td>47.3266</td>\n",
              "      <td>-122.169</td>\n",
              "      <td>2240</td>\n",
              "      <td>7005</td>\n",
              "    </tr>\n",
              "    <tr>\n",
              "      <th>...</th>\n",
              "      <td>...</td>\n",
              "      <td>...</td>\n",
              "      <td>...</td>\n",
              "      <td>...</td>\n",
              "      <td>...</td>\n",
              "      <td>...</td>\n",
              "      <td>...</td>\n",
              "      <td>...</td>\n",
              "      <td>...</td>\n",
              "      <td>...</td>\n",
              "      <td>...</td>\n",
              "      <td>...</td>\n",
              "      <td>...</td>\n",
              "      <td>...</td>\n",
              "      <td>...</td>\n",
              "      <td>...</td>\n",
              "      <td>...</td>\n",
              "      <td>...</td>\n",
              "      <td>...</td>\n",
              "      <td>...</td>\n",
              "      <td>...</td>\n",
              "    </tr>\n",
              "    <tr>\n",
              "      <th>21599</th>\n",
              "      <td>7202300110</td>\n",
              "      <td>20140915T000000</td>\n",
              "      <td>810000</td>\n",
              "      <td>4</td>\n",
              "      <td>3.00</td>\n",
              "      <td>3990</td>\n",
              "      <td>7838</td>\n",
              "      <td>2.0</td>\n",
              "      <td>0</td>\n",
              "      <td>0</td>\n",
              "      <td>3</td>\n",
              "      <td>9</td>\n",
              "      <td>3990</td>\n",
              "      <td>0</td>\n",
              "      <td>2003</td>\n",
              "      <td>0</td>\n",
              "      <td>98053</td>\n",
              "      <td>47.6857</td>\n",
              "      <td>-122.046</td>\n",
              "      <td>3370</td>\n",
              "      <td>6814</td>\n",
              "    </tr>\n",
              "    <tr>\n",
              "      <th>21603</th>\n",
              "      <td>7852140040</td>\n",
              "      <td>20140825T000000</td>\n",
              "      <td>507250</td>\n",
              "      <td>3</td>\n",
              "      <td>2.50</td>\n",
              "      <td>2270</td>\n",
              "      <td>5536</td>\n",
              "      <td>2.0</td>\n",
              "      <td>0</td>\n",
              "      <td>0</td>\n",
              "      <td>3</td>\n",
              "      <td>8</td>\n",
              "      <td>2270</td>\n",
              "      <td>0</td>\n",
              "      <td>2003</td>\n",
              "      <td>0</td>\n",
              "      <td>98065</td>\n",
              "      <td>47.5389</td>\n",
              "      <td>-121.881</td>\n",
              "      <td>2270</td>\n",
              "      <td>5731</td>\n",
              "    </tr>\n",
              "    <tr>\n",
              "      <th>21605</th>\n",
              "      <td>3448900210</td>\n",
              "      <td>20141014T000000</td>\n",
              "      <td>610685</td>\n",
              "      <td>4</td>\n",
              "      <td>2.50</td>\n",
              "      <td>2520</td>\n",
              "      <td>6023</td>\n",
              "      <td>2.0</td>\n",
              "      <td>0</td>\n",
              "      <td>0</td>\n",
              "      <td>3</td>\n",
              "      <td>9</td>\n",
              "      <td>2520</td>\n",
              "      <td>0</td>\n",
              "      <td>2014</td>\n",
              "      <td>0</td>\n",
              "      <td>98056</td>\n",
              "      <td>47.5137</td>\n",
              "      <td>-122.167</td>\n",
              "      <td>2520</td>\n",
              "      <td>6023</td>\n",
              "    </tr>\n",
              "    <tr>\n",
              "      <th>21606</th>\n",
              "      <td>7936000429</td>\n",
              "      <td>20150326T000000</td>\n",
              "      <td>1007500</td>\n",
              "      <td>4</td>\n",
              "      <td>3.50</td>\n",
              "      <td>3510</td>\n",
              "      <td>7200</td>\n",
              "      <td>2.0</td>\n",
              "      <td>0</td>\n",
              "      <td>0</td>\n",
              "      <td>3</td>\n",
              "      <td>9</td>\n",
              "      <td>2600</td>\n",
              "      <td>910</td>\n",
              "      <td>2009</td>\n",
              "      <td>0</td>\n",
              "      <td>98136</td>\n",
              "      <td>47.5537</td>\n",
              "      <td>-122.398</td>\n",
              "      <td>2050</td>\n",
              "      <td>6200</td>\n",
              "    </tr>\n",
              "    <tr>\n",
              "      <th>21609</th>\n",
              "      <td>6600060120</td>\n",
              "      <td>20150223T000000</td>\n",
              "      <td>400000</td>\n",
              "      <td>4</td>\n",
              "      <td>2.50</td>\n",
              "      <td>2310</td>\n",
              "      <td>5813</td>\n",
              "      <td>2.0</td>\n",
              "      <td>0</td>\n",
              "      <td>0</td>\n",
              "      <td>3</td>\n",
              "      <td>8</td>\n",
              "      <td>2310</td>\n",
              "      <td>0</td>\n",
              "      <td>2014</td>\n",
              "      <td>0</td>\n",
              "      <td>98146</td>\n",
              "      <td>47.5107</td>\n",
              "      <td>-122.362</td>\n",
              "      <td>1830</td>\n",
              "      <td>7200</td>\n",
              "    </tr>\n",
              "  </tbody>\n",
              "</table>\n",
              "<p>9118 rows × 21 columns</p>\n",
              "</div>"
            ],
            "text/plain": [
              "               id             date    price  ...     long  sqft_living15  sqft_lot15\n",
              "1      6414100192  20141209T000000   538000  ... -122.319           1690        7639\n",
              "10     1736800520  20150403T000000   662500  ... -122.145           2210        8925\n",
              "15     9297300055  20150124T000000   650000  ... -122.375           2140        4000\n",
              "21     2524049179  20140826T000000  2000000  ... -122.233           4110       20336\n",
              "22     7137970340  20140703T000000   285000  ... -122.169           2240        7005\n",
              "...           ...              ...      ...  ...      ...            ...         ...\n",
              "21599  7202300110  20140915T000000   810000  ... -122.046           3370        6814\n",
              "21603  7852140040  20140825T000000   507250  ... -121.881           2270        5731\n",
              "21605  3448900210  20141014T000000   610685  ... -122.167           2520        6023\n",
              "21606  7936000429  20150326T000000  1007500  ... -122.398           2050        6200\n",
              "21609  6600060120  20150223T000000   400000  ... -122.362           1830        7200\n",
              "\n",
              "[9118 rows x 21 columns]"
            ]
          },
          "metadata": {},
          "execution_count": 22
        }
      ]
    },
    {
      "cell_type": "code",
      "metadata": {
        "colab": {
          "base_uri": "https://localhost:8080/"
        },
        "id": "-bFN6tSWJQWu",
        "outputId": "252835b3-4bb6-487a-f893-2ac53a13c29c"
      },
      "source": [
        "print('Tüm evlerin %', (len(filtered_houses['sqft_living'])/len(data['sqft_living']))*100, 'kadarı 2000 sqft ile 4000 sqft aralığındadır.' )"
      ],
      "execution_count": null,
      "outputs": [
        {
          "output_type": "stream",
          "name": "stdout",
          "text": [
            "Tüm evlerin % 42.187572294452416 kadarı 2000 sqft ile 4000 sqft aralığındadır.\n"
          ]
        }
      ]
    },
    {
      "cell_type": "markdown",
      "metadata": {
        "id": "q-DcFko0TKAo"
      },
      "source": [
        "# **3.square feet özniteliğinden satış fiyatını tahmin eden basit (lineer) bir regresyon modeli oluşturun.**"
      ]
    },
    {
      "cell_type": "code",
      "metadata": {
        "id": "jA72ouwmTRGv"
      },
      "source": [
        "area = data['sqft_living']\n",
        "price = data['price']\n",
        "area = (area - area.min()) / (area.max() - area.min())\n",
        "price = (price - price.min()) / (price.max() - price.min())\n",
        "x = np.array(area).reshape(-1,1)\n",
        "y = np.array(price)"
      ],
      "execution_count": null,
      "outputs": []
    },
    {
      "cell_type": "markdown",
      "metadata": {
        "id": "j81KmHhEP5qz"
      },
      "source": [
        "# **4. Veriyi %80 ve %20 olacak şekilde eğitim(train) ve test kümelerine rastgele ayırın.**"
      ]
    },
    {
      "cell_type": "code",
      "metadata": {
        "id": "f-kkpJkkUS4M"
      },
      "source": [
        "X_train, X_test, y_train, y_test = train_test_split(x,y,test_size=0.2,random_state = 0)\n",
        "y_train = y_train.reshape(-1,1)\n",
        "y_test = y_test.reshape(-1,1)"
      ],
      "execution_count": null,
      "outputs": []
    },
    {
      "cell_type": "markdown",
      "metadata": {
        "id": "CTRU0nc_P_Ha"
      },
      "source": [
        "# **5. Basit regresyon modelinizi eğitim kümesinde eğitin ve eğitim iterasyonlarını yazdırın.**"
      ]
    },
    {
      "cell_type": "code",
      "metadata": {
        "colab": {
          "base_uri": "https://localhost:8080/"
        },
        "id": "uAxtRvLKQoFC",
        "outputId": "83ffd546-2cfa-4598-c75c-4a7365fcfdcd"
      },
      "source": [
        "model = LinearRegression()\n",
        "model.fit(X_train,y_train)"
      ],
      "execution_count": null,
      "outputs": [
        {
          "output_type": "execute_result",
          "data": {
            "text/plain": [
              "LinearRegression(copy_X=True, fit_intercept=True, n_jobs=None, normalize=False)"
            ]
          },
          "metadata": {},
          "execution_count": 43
        }
      ]
    },
    {
      "cell_type": "markdown",
      "metadata": {
        "id": "rTBN2yg0VYUc"
      },
      "source": [
        "# **6. Eğitilmiş modelinizi inceleyin. Modelinizin katsayılarını yazdırın.**"
      ]
    },
    {
      "cell_type": "code",
      "metadata": {
        "colab": {
          "base_uri": "https://localhost:8080/"
        },
        "id": "rEROEtxdVbAi",
        "outputId": "c746988d-f6cb-49b5-b1fb-7dad9c66cf23"
      },
      "source": [
        "print(model.intercept_)\n",
        "print(model.coef_)\n",
        "pred = model.predict(X_test)\n",
        "predictions = pred.reshape(-1,1)"
      ],
      "execution_count": null,
      "outputs": [
        {
          "output_type": "stream",
          "name": "stdout",
          "text": [
            "[-0.00536475]\n",
            "[[0.49345356]]\n"
          ]
        }
      ]
    },
    {
      "cell_type": "markdown",
      "metadata": {
        "id": "_Z0a0JZhUvI0"
      },
      "source": [
        "# **7. Eğitilmiş modelinizin performansını ölçün. RMSE (root mean square error) hatası nedir?**"
      ]
    },
    {
      "cell_type": "code",
      "metadata": {
        "colab": {
          "base_uri": "https://localhost:8080/"
        },
        "id": "ItrOaRDeVBYa",
        "outputId": "c23600e9-e1a7-427e-aa23-7f6c028e6aa1"
      },
      "source": [
        "print('MSE : ', mean_squared_error(y_test,predictions))\n",
        "print('RMSE : ', np.sqrt(mean_squared_error(y_test,predictions)))"
      ],
      "execution_count": null,
      "outputs": [
        {
          "output_type": "stream",
          "name": "stdout",
          "text": [
            "MSE :  0.001065361564680432\n",
            "RMSE :  0.03263987690970099\n"
          ]
        }
      ]
    },
    {
      "cell_type": "markdown",
      "metadata": {
        "id": "6Ynoo9SWr7ED"
      },
      "source": [
        "# **8. Şimdi, eğitilmiş modelinizin test kümesi üzerindeki tahminlerini elde edin. (square feet vs. price) olacak şekilde test kümesini ve eğitilmiş modelinize ait regresyon eğrisini çizdirin.**"
      ]
    },
    {
      "cell_type": "code",
      "metadata": {
        "colab": {
          "base_uri": "https://localhost:8080/",
          "height": 265
        },
        "id": "eNS4WQ2Pr9rW",
        "outputId": "6d77f6f6-f372-4169-b2c6-6bb65ad0b90a"
      },
      "source": [
        "plt.scatter(X_test, y_test)\n",
        "plt.plot(X_test, pred, color='red')\n",
        "plt.show()"
      ],
      "execution_count": null,
      "outputs": [
        {
          "output_type": "display_data",
          "data": {
            "image/png": "[encoded data removed]",
            "text/plain": [
              "<Figure size 432x288 with 1 Axes>"
            ]
          },
          "metadata": {
            "needs_background": "light"
          }
        }
      ]
    },
    {
      "cell_type": "markdown",
      "metadata": {
        "id": "gokma9iZacIX"
      },
      "source": [
        "# **9. Basit bir lineer regresyon modelini aşağıdaki öznitelikleri (advanced_features) kullanarak oluşturun:**\n",
        "1 advanced_features=[\n",
        "\n",
        "2 'bedrooms','bathrooms','sqft_living','sqft_lot','floors','zipcode',\n",
        "\n",
        "3 'condition', # condition of house\n",
        "\n",
        "4 'grade', # measure of quality of construction\n",
        "\n",
        "5 'waterfront', # waterfront property\n",
        "\n",
        "6 'view', # type of view\n",
        "\n",
        "7 'sqft_above', # square feet above ground\n",
        "\n",
        "8 'sqft_basement', # square feet in basement\n",
        "\n",
        "9 'yr_built', # the year built\n",
        "\n",
        "10 'yr_renovated', # the year renovated\n",
        "\n",
        "11 'lat', 'long', # the lat-long of the parcel\n",
        "\n",
        "12 'sqft_living15', # average sq.ft. of 15 nearest neighbors\n",
        "\n",
        "13 'sqft_lot15', # average lot size of 15 nearest neighbors\n",
        "\n",
        "14 ] "
      ]
    },
    {
      "cell_type": "code",
      "metadata": {
        "id": "yMTzbcJZa5fP"
      },
      "source": [
        "advanced_features = data[[\n",
        "'bedrooms', 'bathrooms', 'sqft_living', 'sqft_lot', 'floors', 'zipcode',\n",
        "'condition', # condition of house\t\t\t\t\n",
        "'grade', # measure of quality of construction\t\t\t\t\n",
        "'waterfront', # waterfront property\t\t\t\t\n",
        "'view', # type of view\t\t\t\t\n",
        "'sqft_above', # square feet above ground\t\t\t\t\n",
        "'sqft_basement', # square feet in basement\t\t\t\t\n",
        "'yr_built', # the year built\t\t\t\t\n",
        "'yr_renovated', # the year renovated\t\t\t\t\n",
        "'lat', 'long', # the lat-long of the parcel\t\t\t\t\n",
        "'sqft_living15', # average sq.ft. of 15 nearest neighbors \t\t\t\t\n",
        "'sqft_lot15', # average lot size of 15 nearest neighbors \n",
        "]]"
      ],
      "execution_count": null,
      "outputs": []
    },
    {
      "cell_type": "code",
      "metadata": {
        "id": "ibSvSiBPD1vD"
      },
      "source": [
        "advanced_features = (advanced_features - advanced_features.min()) / (advanced_features.max() - advanced_features.min())"
      ],
      "execution_count": null,
      "outputs": []
    },
    {
      "cell_type": "code",
      "metadata": {
        "colab": {
          "base_uri": "https://localhost:8080/"
        },
        "id": "-Nn-zDZKa_om",
        "outputId": "64a9a25e-cedd-42df-9e5d-3d288dc5b221"
      },
      "source": [
        "print(advanced_features)"
      ],
      "execution_count": null,
      "outputs": [
        {
          "output_type": "stream",
          "name": "stdout",
          "text": [
            "       bedrooms  bathrooms  sqft_living  ...     long  sqft_living15  sqft_lot15\n",
            "0             3       1.00         1180  ... -122.257           1340        5650\n",
            "1             3       2.25         2570  ... -122.319           1690        7639\n",
            "2             2       1.00          770  ... -122.233           2720        8062\n",
            "3             4       3.00         1960  ... -122.393           1360        5000\n",
            "4             3       2.00         1680  ... -122.045           1800        7503\n",
            "...         ...        ...          ...  ...      ...            ...         ...\n",
            "21608         3       2.50         1530  ... -122.346           1530        1509\n",
            "21609         4       2.50         2310  ... -122.362           1830        7200\n",
            "21610         2       0.75         1020  ... -122.299           1020        2007\n",
            "21611         3       2.50         1600  ... -122.069           1410        1287\n",
            "21612         2       0.75         1020  ... -122.299           1020        1357\n",
            "\n",
            "[21613 rows x 18 columns]\n"
          ]
        }
      ]
    },
    {
      "cell_type": "code",
      "metadata": {
        "id": "wwqacGOecFzC"
      },
      "source": [
        "x_n = np.array(advanced_features)\n",
        "y_n = np.array(price) "
      ],
      "execution_count": null,
      "outputs": []
    },
    {
      "cell_type": "code",
      "metadata": {
        "id": "HxHBnN2JqztV"
      },
      "source": [
        "X_train_n, X_test_n, y_train_n, y_test_n = train_test_split(x_n,y_n,test_size=0.2,random_state = 0)\n",
        "y_train_n = y_train_n.reshape(-1,1)\n",
        "y_test_n = y_test_n.reshape(-1,1)"
      ],
      "execution_count": null,
      "outputs": []
    },
    {
      "cell_type": "code",
      "metadata": {
        "colab": {
          "base_uri": "https://localhost:8080/"
        },
        "id": "0YEtOQEPrixT",
        "outputId": "631e4370-2c16-466f-927c-4dce8a193b07"
      },
      "source": [
        "model_n = LinearRegression()\n",
        "model_n.fit(X_train_n,y_train_n)"
      ],
      "execution_count": null,
      "outputs": [
        {
          "output_type": "execute_result",
          "data": {
            "text/plain": [
              "LinearRegression(copy_X=True, fit_intercept=True, n_jobs=None, normalize=False)"
            ]
          },
          "metadata": {},
          "execution_count": 51
        }
      ]
    },
    {
      "cell_type": "code",
      "metadata": {
        "colab": {
          "base_uri": "https://localhost:8080/"
        },
        "id": "DuUhjXe6r2Zc",
        "outputId": "8f8ba42a-20bc-41d8-d5a3-28c063f667ba"
      },
      "source": [
        "print(model_n.intercept_)\n",
        "print(model_n.coef_)\n",
        "pred_n = model_n.predict(X_test_n)\n",
        "predictions_n = pred_n.reshape(-1,1)"
      ],
      "execution_count": null,
      "outputs": [
        {
          "output_type": "stream",
          "name": "stdout",
          "text": [
            "[0.53654204]\n",
            "[[-4.54744697e-03  5.17127879e-03  1.47685692e-05  2.30673753e-08\n",
            "   9.73713895e-04 -7.44221383e-05  3.43206798e-03  1.22741181e-02\n",
            "   7.94230202e-02  6.91631335e-03  9.54591345e-06  5.22265574e-06\n",
            "  -3.41919604e-04  2.63676115e-06  7.93266834e-02 -2.91661677e-02\n",
            "   3.17814889e-06 -6.13049274e-08]]\n"
          ]
        }
      ]
    },
    {
      "cell_type": "code",
      "metadata": {
        "colab": {
          "base_uri": "https://localhost:8080/"
        },
        "id": "P_hlxoDgr9ex",
        "outputId": "29f4ccc9-f4e6-4013-efb6-c61fd346e82b"
      },
      "source": [
        "print('MSE : ', mean_squared_error(y_test_n,predictions_n))\n",
        "print('RMSE : ', np.sqrt(mean_squared_error(y_test_n,predictions_n)))"
      ],
      "execution_count": null,
      "outputs": [
        {
          "output_type": "stream",
          "name": "stdout",
          "text": [
            "MSE :  0.0006240061377778477\n",
            "RMSE :  0.024980114847170894\n"
          ]
        }
      ]
    },
    {
      "cell_type": "markdown",
      "metadata": {
        "id": "KHLATJTksVM6"
      },
      "source": [
        "# **10. Yukarıda lineer regresyon (derece=1) modeli kullandık. Onun yerine, daha yüksek dereceli polinom regresyon modeli de kullanabilirdik.**\n",
        "# **Şimdi, biri 2.derece diğeri 5.derece olmak üzere iki farklı polinom regresyon modeli eğitin. Bu modellerin test kümesi üzerindeki performanslarını ‘sqft_living’ ve advanced_features özniteliklerini kullanarak RMSE cinsinden hesaplayın.**"
      ]
    },
    {
      "cell_type": "code",
      "metadata": {
        "id": "EPmcCI0cJY-G"
      },
      "source": [
        "x_n2 = np.array(advanced_features)\n",
        "y_n2 = np.array(price) \n",
        "x_n5 = np.array(advanced_features)\n",
        "y_n5 = np.array(price) "
      ],
      "execution_count": null,
      "outputs": []
    },
    {
      "cell_type": "code",
      "metadata": {
        "id": "jzy2BuHQJhdj"
      },
      "source": [
        "X_train_n2, X_test_n2, y_train_n2, y_test_n2 = train_test_split(x_n2,y_n2,test_size=0.2,random_state = 0)\n",
        "y_train_n2 = y_train_n2.reshape(-1,1)\n",
        "y_test_n2 = y_test_n2.reshape(-1,1)\n",
        "X_train_n5, X_test_n5, y_train_n5, y_test_n5 = train_test_split(x_n5,y_n5,test_size=0.2,random_state = 0)\n",
        "y_train_n5 = y_train_n5.reshape(-1,1)\n",
        "y_test_n5 = y_test_n5.reshape(-1,1)"
      ],
      "execution_count": null,
      "outputs": []
    },
    {
      "cell_type": "code",
      "metadata": {
        "colab": {
          "base_uri": "https://localhost:8080/"
        },
        "id": "4CtUS3BfKZuZ",
        "outputId": "9bb9044b-f98c-4445-b21a-c5d452e61f6c"
      },
      "source": [
        "lin_reg2=LinearRegression()\n",
        "lin_reg2.fit(X_train_n2,y_train_n2)\n",
        "lin_reg5=LinearRegression()\n",
        "lin_reg5.fit(X_train_n5,y_train_n5)"
      ],
      "execution_count": null,
      "outputs": [
        {
          "output_type": "execute_result",
          "data": {
            "text/plain": [
              "LinearRegression(copy_X=True, fit_intercept=True, n_jobs=None, normalize=False)"
            ]
          },
          "metadata": {},
          "execution_count": 127
        }
      ]
    },
    {
      "cell_type": "code",
      "metadata": {
        "colab": {
          "base_uri": "https://localhost:8080/"
        },
        "id": "uo6o161B6jUq",
        "outputId": "d5d22536-0518-4e00-c279-09d3cdcf3556"
      },
      "source": [
        "poly_reg2=PolynomialFeatures(degree=2)\n",
        "X_poly2=poly_reg2.fit_transform(X_train_n2)\n",
        "poly_reg2.fit(X_poly2,y_train_n2)\n",
        "lin_reg2=LinearRegression()\n",
        "lin_reg2.fit(X_poly2,y_train_n2)"
      ],
      "execution_count": null,
      "outputs": [
        {
          "output_type": "execute_result",
          "data": {
            "text/plain": [
              "LinearRegression(copy_X=True, fit_intercept=True, n_jobs=None, normalize=False)"
            ]
          },
          "metadata": {},
          "execution_count": 128
        }
      ]
    },
    {
      "cell_type": "code",
      "metadata": {
        "id": "mfS-oczy7HBH"
      },
      "source": [
        "poly_reg5=PolynomialFeatures(degree=5)\n",
        "X_poly5=poly_reg5.fit_transform(X_train_n5)\n",
        "poly_reg5.fit(X_poly5,y_train_n5)\n",
        "lin_reg5=LinearRegression()\n",
        "lin_reg5.fit(X_poly5,y_train_n5)"
      ],
      "execution_count": null,
      "outputs": []
    },
    {
      "cell_type": "code",
      "metadata": {
        "colab": {
          "base_uri": "https://localhost:8080/"
        },
        "id": "IA6S9K1oBSXZ",
        "outputId": "681b0fcf-70af-400e-f7f3-73db2dae9518"
      },
      "source": [
        "pred_n2 = lin_reg2.predict(X_poly2)\n",
        "predictions_n2 = pred_n2.reshape(-1,1)\n",
        "print('MSE : ', mean_squared_error(y_train_n2,predictions_n2))\n",
        "print('RMSE : ', np.sqrt(mean_squared_error(y_train_n2,predictions_n2)))"
      ],
      "execution_count": null,
      "outputs": [
        {
          "output_type": "stream",
          "name": "stdout",
          "text": [
            "MSE :  0.00039800999339864156\n",
            "RMSE :  0.019950187803593266\n"
          ]
        }
      ]
    },
    {
      "cell_type": "code",
      "metadata": {
        "id": "YXK-cwCZWter"
      },
      "source": [
        "pred_n5 = lin_reg5.predict(X_poly5)\n",
        "predictions_n5 = pred_n5.reshape(-1,1)\n",
        "print('MSE : ', mean_squared_error(y_train_n5,predictions_n5))\n",
        "print('RMSE : ', np.sqrt(mean_squared_error(y_train_n5,predictions_n5)))"
      ],
      "execution_count": null,
      "outputs": []
    },
    {
      "cell_type": "markdown",
      "metadata": {
        "id": "URZKqULFWIbC"
      },
      "source": [
        "# **11. Test kümesini (square feet vs. price) olacak şekilde çizdirin ve eğitilmiş modellerinizin regresyon eğrilerini çizdirin.**"
      ]
    },
    {
      "cell_type": "code",
      "metadata": {
        "id": "Ck5RH0tdEcST"
      },
      "source": [
        "plt.scatter(X_test_n2,y_test_n2,color='red')\n",
        "plt.plot(X_test_n2,lin_reg2.predict(X_test_n2['sqft_living']),color='blue')\n",
        "plt.title('Truth or bluff(Linear Regression)')\n",
        "plt.xlabel('Position Level')\n",
        "plt.ylabel('Salary')\n",
        "plt.show()"
      ],
      "execution_count": null,
      "outputs": []
    },
    {
      "cell_type": "code",
      "metadata": {
        "id": "uDtnhFwbW-06"
      },
      "source": [
        "plt.scatter(X_test_n5,y_test_n5,color='red')\n",
        "plt.plot(X_test_n5,lin_reg5.predict(X_test_n5['sqft_living']),color='blue')\n",
        "plt.title('Truth or bluff(Linear Regression)')\n",
        "plt.xlabel('Position Level')\n",
        "plt.ylabel('Salary')\n",
        "plt.show()"
      ],
      "execution_count": null,
      "outputs": []
    },
    {
      "cell_type": "markdown",
      "metadata": {
        "id": "yIvIGLKRWC79"
      },
      "source": [
        "# **12. Eğitilmiş modellerinizi kullanarak ID numaraları '5309101200' ve '1925069082' olan evlerin satış fiyatlarını tahmin edin. Bu evleri inceleyin: Evin alanı ne kadar, kaç odası var, vs? Bu evler için modellerinizin tahmini ne çıktı? Gerçek satış rakamı ile tahmin edilen rakam arasındaki fark ne kadar? Hangi modeli kullanmayı tercih ederdiniz? Neden?**"
      ]
    },
    {
      "cell_type": "code",
      "metadata": {
        "colab": {
          "base_uri": "https://localhost:8080/"
        },
        "id": "8FzR_PDnO5fe",
        "outputId": "2d0ee8d8-45f3-46a9-de6a-168fcf96b99f"
      },
      "source": [
        "ev = data.loc[data['id'] == 6414100192]\n",
        "\n",
        "ev = ev[[\n",
        "'bedrooms', 'bathrooms', 'sqft_living', 'sqft_lot', 'floors', 'zipcode',\n",
        "'condition', \t\t\n",
        "'grade', \t\t\n",
        "'waterfront', \t\t\t\n",
        "'view', \t\n",
        "'sqft_above', \t\n",
        "'sqft_basement', \t\n",
        "'yr_built', \t\t\t\n",
        "'yr_renovated',\n",
        "'lat', 'long', \t\n",
        "'sqft_living15', \t\t\t\t\n",
        "'sqft_lot15', \n",
        "]]\n",
        "\n",
        "print(\"1.Evin Fiyatı =\", data.loc[data['id'] == 6414100192]['price'].values)\n",
        "print(\"1.Modelin Tahmini =\", str(model.predict(ev[['sqft_living']].values)))\n",
        "print(\"2.Modelin Tahmini =\", model_n.predict(ev))"
      ],
      "execution_count": null,
      "outputs": [
        {
          "output_type": "stream",
          "name": "stdout",
          "text": [
            "1.Evin Fiyatı = [538000]\n",
            "1.Modelin Tahmini = [[1268.17028113]]\n",
            "2.Modelin Tahmini = [[0.08714371]]\n"
          ]
        }
      ]
    }
  ]
}